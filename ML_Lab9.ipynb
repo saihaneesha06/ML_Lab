{
  "nbformat": 4,
  "nbformat_minor": 0,
  "metadata": {
    "colab": {
      "provenance": []
    },
    "kernelspec": {
      "name": "python3",
      "display_name": "Python 3"
    },
    "language_info": {
      "name": "python"
    }
  },
  "cells": [
    {
      "cell_type": "code",
      "execution_count": 1,
      "metadata": {
        "colab": {
          "base_uri": "https://localhost:8080/"
        },
        "id": "cZwOPcnR6PGw",
        "outputId": "71953c61-10ef-47ef-8da3-6094e89b5bc9"
      },
      "outputs": [
        {
          "output_type": "stream",
          "name": "stdout",
          "text": [
            "K=3 Inertia: 2222.2484249109357\n",
            "K=5 Inertia: 1707.213626685892\n"
          ]
        },
        {
          "output_type": "stream",
          "name": "stderr",
          "text": [
            "/usr/local/lib/python3.10/dist-packages/sklearn/cluster/_kmeans.py:870: FutureWarning: The default value of `n_init` will change from 10 to 'auto' in 1.4. Set the value of `n_init` explicitly to suppress the warning\n",
            "  warnings.warn(\n",
            "/usr/local/lib/python3.10/dist-packages/sklearn/cluster/_kmeans.py:870: FutureWarning: The default value of `n_init` will change from 10 to 'auto' in 1.4. Set the value of `n_init` explicitly to suppress the warning\n",
            "  warnings.warn(\n"
          ]
        }
      ],
      "source": [
        "import pandas as pd\n",
        "import matplotlib.pyplot as plt\n",
        "from sklearn.cluster import KMeans\n",
        "from sklearn.preprocessing import StandardScaler\n",
        "\n",
        "# Load data\n",
        "data = pd.read_excel('Parkisons Dataset 1 Final (1).xlsx')\n",
        "\n",
        "# Identify non-numeric columns\n",
        "non_numeric_columns = data.select_dtypes(exclude=['number']).columns.tolist()\n",
        "\n",
        "# Remove non-numeric columns\n",
        "numeric_data = data.drop(non_numeric_columns, axis=1)\n",
        "\n",
        "# Preprocess the numeric data (scaling or normalization might be needed)\n",
        "scaler = StandardScaler()\n",
        "data_scaled = scaler.fit_transform(numeric_data)\n",
        "\n",
        "# K-means clustering with k = 3\n",
        "kmeans3 = KMeans(n_clusters=3)\n",
        "kmeans3.fit(data_scaled)\n",
        "\n",
        "# K-means clustering with k = 5\n",
        "kmeans5 = KMeans(n_clusters=5)\n",
        "kmeans5.fit(data_scaled)\n",
        "\n",
        "# Check inertia or silhouette scores for evaluating the clustering\n",
        "print(\"K=3 Inertia:\", kmeans3.inertia_)\n",
        "print(\"K=5 Inertia:\", kmeans5.inertia_)\n"
      ]
    }
  ]
}
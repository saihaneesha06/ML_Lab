{
  "nbformat": 4,
  "nbformat_minor": 0,
  "metadata": {
    "colab": {
      "provenance": []
    },
    "kernelspec": {
      "name": "python3",
      "display_name": "Python 3"
    },
    "language_info": {
      "name": "python"
    }
  },
  "cells": [
    {
      "cell_type": "code",
      "source": [
        "import pandas as pd\n",
        "from sklearn.linear_model import Perceptron\n",
        "from sklearn.preprocessing import StandardScaler"
      ],
      "metadata": {
        "id": "1uw4aCL0NtX1"
      },
      "execution_count": null,
      "outputs": []
    },
    {
      "cell_type": "code",
      "execution_count": null,
      "metadata": {
        "id": "8RxgJ02hLrxI"
      },
      "outputs": [],
      "source": [
        "df = pd.read_excel('Parkisons Dataset 1 Final.xlsx')"
      ]
    },
    {
      "cell_type": "code",
      "source": [
        "# Load the data from the CSV file\n",
        "data = pd.read_csv(\"customer_data.csv\")\n",
        "\n",
        "# Separate features (X) and labels (y)\n",
        "X = data.iloc[:, :-1]  # Features (Candies, Mangoes, Milk Packets, Payment)\n",
        "y = data[\"High Value Tx?\"]  # Labels (Yes/No)\n",
        "\n",
        "# Standardize the feature data\n",
        "scaler = StandardScaler()\n",
        "X = scaler.fit_transform(X)\n",
        "\n",
        "# Create a Perceptron classifier\n",
        "clf = Perceptron(tol=1e-3, random_state=0)  # You can adjust the parameters as needed\n",
        "\n",
        "# Train the Perceptron on the data\n",
        "clf.fit(X, y)\n",
        "\n",
        "# Test the model with new data (e.g., predict high/low value for a new transaction)\n",
        "new_transaction = [[16, 1, 4, 198]]  # Example new transaction\n",
        "new_transaction = scaler.transform(new_transaction)  # Standardize new data\n",
        "prediction = clf.predict(new_transaction)\n",
        "\n",
        "if prediction[0] == 'Yes':\n",
        "    print(\"High Value Transaction\")\n",
        "else:\n",
        "    print(\"Low Value Transaction\")"
      ],
      "metadata": {
        "id": "YaNULEWxXcBM",
        "colab": {
          "base_uri": "https://localhost:8080/",
          "height": 245
        },
        "outputId": "bb1a5bbd-8a2a-44cb-99f6-682b9b1a7675"
      },
      "execution_count": 5,
      "outputs": [
        {
          "output_type": "error",
          "ename": "NameError",
          "evalue": "ignored",
          "traceback": [
            "\u001b[0;31m---------------------------------------------------------------------------\u001b[0m",
            "\u001b[0;31mNameError\u001b[0m                                 Traceback (most recent call last)",
            "\u001b[0;32m<ipython-input-5-2319f1522b17>\u001b[0m in \u001b[0;36m<cell line: 9>\u001b[0;34m()\u001b[0m\n\u001b[1;32m      7\u001b[0m \u001b[0;34m\u001b[0m\u001b[0m\n\u001b[1;32m      8\u001b[0m \u001b[0;31m# Standardize the feature data\u001b[0m\u001b[0;34m\u001b[0m\u001b[0;34m\u001b[0m\u001b[0m\n\u001b[0;32m----> 9\u001b[0;31m \u001b[0mscaler\u001b[0m \u001b[0;34m=\u001b[0m \u001b[0mStandardScaler\u001b[0m\u001b[0;34m(\u001b[0m\u001b[0;34m)\u001b[0m\u001b[0;34m\u001b[0m\u001b[0;34m\u001b[0m\u001b[0m\n\u001b[0m\u001b[1;32m     10\u001b[0m \u001b[0mX\u001b[0m \u001b[0;34m=\u001b[0m \u001b[0mscaler\u001b[0m\u001b[0;34m.\u001b[0m\u001b[0mfit_transform\u001b[0m\u001b[0;34m(\u001b[0m\u001b[0mX\u001b[0m\u001b[0;34m)\u001b[0m\u001b[0;34m\u001b[0m\u001b[0;34m\u001b[0m\u001b[0m\n\u001b[1;32m     11\u001b[0m \u001b[0;34m\u001b[0m\u001b[0m\n",
            "\u001b[0;31mNameError\u001b[0m: name 'StandardScaler' is not defined"
          ]
        }
      ]
    }
  ]
}
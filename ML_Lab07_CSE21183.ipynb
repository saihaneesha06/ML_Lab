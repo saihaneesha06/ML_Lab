{
  "nbformat": 4,
  "nbformat_minor": 0,
  "metadata": {
    "colab": {
      "provenance": []
    },
    "kernelspec": {
      "name": "python3",
      "display_name": "Python 3"
    },
    "language_info": {
      "name": "python"
    }
  },
  "cells": [
    {
      "cell_type": "code",
      "execution_count": 12,
      "metadata": {
        "colab": {
          "base_uri": "https://localhost:8080/"
        },
        "id": "EhHDD1WoWYyG",
        "outputId": "0fa066f1-1c91-4ab4-bf69-bce13f1c2cf1"
      },
      "outputs": [
        {
          "output_type": "stream",
          "name": "stdout",
          "text": [
            "Support Vectors: [[0.0091   0.440988]\n",
            " [0.00135  0.344252]\n",
            " [0.02764  0.448439]\n",
            " [0.0074   0.305062]\n",
            " [0.0042   0.305429]\n",
            " [0.00871  0.341788]\n",
            " [0.00474  0.507504]\n",
            " [0.0062   0.469928]\n",
            " [0.00167  0.432439]\n",
            " [0.00478  0.380253]\n",
            " [0.01397  0.566424]\n",
            " [0.00476  0.467489]\n",
            " [0.00737  0.598515]\n",
            " [0.00072  0.368535]\n",
            " [0.00119  0.465946]\n",
            " [0.0034   0.364867]\n",
            " [0.0059   0.387482]\n",
            " [0.003    0.27685 ]\n",
            " [0.00454  0.438296]\n",
            " [0.07223  0.451221]\n",
            " [0.00301  0.447979]\n",
            " [0.04441  0.508479]\n",
            " [0.00432  0.610367]\n",
            " [0.00675  0.457702]\n",
            " [0.00484  0.420383]\n",
            " [0.00401  0.405991]\n",
            " [0.00462  0.538688]\n",
            " [0.00065  0.340068]\n",
            " [0.00435  0.413295]\n",
            " [0.00415  0.361232]\n",
            " [0.00533  0.384868]\n",
            " [0.01049  0.522812]\n",
            " [0.00351  0.25657 ]\n",
            " [0.00479  0.553134]\n",
            " [0.0181   0.431674]\n",
            " [0.00839  0.579597]\n",
            " [0.0068   0.528485]\n",
            " [0.00955  0.603515]\n",
            " [0.00481  0.459766]\n",
            " [0.04398  0.462803]\n",
            " [0.00703  0.555303]\n",
            " [0.01018  0.447285]\n",
            " [0.00243  0.263654]\n",
            " [0.0117   0.427785]\n",
            " [0.00231  0.403884]\n",
            " [0.00581  0.4606  ]\n",
            " [0.00257  0.306443]\n",
            " [0.00903  0.470972]\n",
            " [0.01095  0.418622]\n",
            " [0.01724  0.457541]\n",
            " [0.01309  0.429895]\n",
            " [0.01493  0.566849]\n",
            " [0.00586  0.360148]\n",
            " [0.06057  0.478024]\n",
            " [0.00607  0.59604 ]\n",
            " [0.01328  0.358773]\n",
            " [0.01166  0.611137]\n",
            " [0.00639  0.408598]\n",
            " [0.00677  0.470478]\n",
            " [0.00595  0.329577]\n",
            " [0.02887  0.522746]\n",
            " [0.01728  0.606273]\n",
            " [0.00238  0.311369]\n",
            " [0.0042   0.429484]\n",
            " [0.01435  0.557045]\n",
            " [0.0085   0.50238 ]\n",
            " [0.0057   0.39661 ]\n",
            " [0.00578  0.365488]\n",
            " [0.00504  0.482296]\n",
            " [0.00611  0.352396]\n",
            " [0.00704  0.436084]\n",
            " [0.00882  0.576644]\n",
            " [0.01143  0.547975]\n",
            " [0.01015  0.468621]\n",
            " [0.01036  0.536009]\n",
            " [0.00659  0.393563]\n",
            " [0.00786  0.540049]\n",
            " [0.00681  0.530529]\n",
            " [0.0034   0.341435]\n",
            " [0.00495  0.296888]\n",
            " [0.00479  0.437031]\n",
            " [0.00233  0.334171]\n",
            " [0.01914  0.454444]]\n"
          ]
        }
      ],
      "source": [
        "import pandas as pd\n",
        "from sklearn import svm\n",
        "from sklearn.model_selection import train_test_split\n",
        "\n",
        "# Load your dataset from Excel\n",
        "data = pd.read_excel('Parkisons Dataset 1 Final.xlsx')\n",
        "\n",
        "X = data[['NHR', 'RPDE']]\n",
        "y = data['status']\n",
        "\n",
        "class_1 = 0\n",
        "class_2 = 1\n",
        "\n",
        "# Select rows corresponding to the chosen classes\n",
        "selected_rows = (y == class_1) | (y == class_2)\n",
        "X_selected = X[selected_rows]\n",
        "y_selected = y[selected_rows]\n",
        "\n",
        "# Split the data into training and testing sets\n",
        "X_train, X_test, y_train, y_test = train_test_split(X_selected, y_selected, test_size=0.2, random_state=42)\n",
        "\n",
        "# Train a support vector machine with a linear kernel\n",
        "clf_linear = svm.SVC(kernel='linear')\n",
        "clf_linear.fit(X_train, y_train)\n",
        "\n",
        "# Get the support vectors\n",
        "support_vectors = clf_linear.support_vectors_\n",
        "print(\"Support Vectors:\", support_vectors)\n"
      ]
    },
    {
      "cell_type": "code",
      "source": [
        "# Test the accuracy of the SVM\n",
        "accuracy = clf_linear.score(X_test, y_test)\n",
        "print(\"Accuracy:\", accuracy)\n",
        "\n",
        "# Perform classification for a given vector\n",
        "test_vector = [[1.5, 2.0]]\n",
        "predicted_class = clf_linear.predict(test_vector)\n",
        "print(\"Predicted Class:\", predicted_class)\n"
      ],
      "metadata": {
        "colab": {
          "base_uri": "https://localhost:8080/"
        },
        "id": "P0sqZo0lXFfS",
        "outputId": "4c303b4b-c7c0-4fa3-ad46-fc507242b8ca"
      },
      "execution_count": 13,
      "outputs": [
        {
          "output_type": "stream",
          "name": "stdout",
          "text": [
            "Accuracy: 0.8205128205128205\n",
            "Predicted Class: [1]\n"
          ]
        },
        {
          "output_type": "stream",
          "name": "stderr",
          "text": [
            "/usr/local/lib/python3.10/dist-packages/sklearn/base.py:439: UserWarning: X does not have valid feature names, but SVC was fitted with feature names\n",
            "  warnings.warn(\n"
          ]
        }
      ]
    },
    {
      "cell_type": "code",
      "source": [
        "# Use the predict function\n",
        "predicted_classes = clf_linear.predict(X_test)\n",
        "print(\"Predicted Classes:\", predicted_classes)\n"
      ],
      "metadata": {
        "colab": {
          "base_uri": "https://localhost:8080/"
        },
        "id": "BuVZIBrSXIBX",
        "outputId": "fe100839-c568-43d1-ffe7-45d3d169e75d"
      },
      "execution_count": 14,
      "outputs": [
        {
          "output_type": "stream",
          "name": "stdout",
          "text": [
            "Predicted Classes: [1 1 1 1 1 1 1 1 1 1 1 1 1 1 1 1 1 1 1 1 1 1 1 1 1 1 1 1 1 1 1 1 1 1 1 1 1\n",
            " 1 1]\n"
          ]
        }
      ]
    },
    {
      "cell_type": "code",
      "source": [
        "# Experiment with various kernel functions: 'poly', 'rbf', 'sigmoid'\n",
        "kernels = ['poly', 'rbf', 'sigmoid']\n",
        "\n",
        "for kernel in kernels:\n",
        "    clf = svm.SVC(kernel=kernel)\n",
        "    clf.fit(X_train, y_train)\n",
        "\n",
        "    # Test the accuracy of the SVM with the current kernel\n",
        "    accuracy = clf.score(X_test, y_test)\n",
        "    print(f\"Accuracy with {kernel} kernel:\", accuracy)\n"
      ],
      "metadata": {
        "colab": {
          "base_uri": "https://localhost:8080/"
        },
        "id": "XqueMpevXKMR",
        "outputId": "2802f546-c206-4564-ecab-0daef7bea595"
      },
      "execution_count": 15,
      "outputs": [
        {
          "output_type": "stream",
          "name": "stdout",
          "text": [
            "Accuracy with poly kernel: 0.8205128205128205\n",
            "Accuracy with rbf kernel: 0.8205128205128205\n",
            "Accuracy with sigmoid kernel: 0.8205128205128205\n"
          ]
        }
      ]
    }
  ]
}